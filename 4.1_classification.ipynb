{
 "cells": [
  {
   "cell_type": "markdown",
   "metadata": {},
   "source": [
    "Приклади з доп. матеріалів"
   ]
  },
  {
   "cell_type": "code",
   "execution_count": 70,
   "metadata": {},
   "outputs": [],
   "source": [
    "import pandas as pd\n",
    "import numpy as np\n",
    "import matplotlib.pyplot as plt"
   ]
  },
  {
   "cell_type": "code",
   "execution_count": 71,
   "metadata": {},
   "outputs": [],
   "source": [
    "def load_data(filename):\n",
    "    data = np.loadtxt(filename, delimiter=',')\n",
    "    X = data[:,:2]\n",
    "    y = data[:,2]\n",
    "    return X, y"
   ]
  },
  {
   "cell_type": "code",
   "execution_count": 72,
   "metadata": {},
   "outputs": [],
   "source": [
    "def plot_data(X, y, pos_label=\"y=1\", neg_label=\"y=0\"):\n",
    "    positive = y == 1\n",
    "    negative = y == 0\n",
    "\n",
    "    # plot example\n",
    "    plt.plot(X[positive, 0], X[positive, 1], \"k+\", label=pos_label)\n",
    "    plt.plot(X[negative, 0], X[negative, 1], \"yo\", label=neg_label)"
   ]
  },
  {
   "cell_type": "code",
   "execution_count": 73,
   "metadata": {},
   "outputs": [],
   "source": [
    "# # X_train, y_train = load_data(\"iris.csv\")\n",
    "\n",
    "# # plot examples\n",
    "# plt.figure(figsize=(10, 7))\n",
    "# plot_data(X_train, y_train[:], pos_label=\"Addmited\", neg_label=\"Not addmited\")\n",
    "\n",
    "# # set the y-axis label\n",
    "# plt.xlabel(\"Exam 2 score\")\n",
    "# # set the x-axis label\n",
    "# plt.ylabel(\"Exam 1 score\")\n",
    "# plt.legend(loc=\"upper right\")\n",
    "# plt.show()"
   ]
  },
  {
   "cell_type": "markdown",
   "metadata": {},
   "source": [
    "Практика з конспекту:"
   ]
  },
  {
   "cell_type": "code",
   "execution_count": 74,
   "metadata": {},
   "outputs": [
    {
     "name": "stdout",
     "output_type": "stream",
     "text": [
      "0.9733333333333334\n",
      "[[-0.42152284  0.96482473 -2.51994006 -1.08433494]\n",
      " [ 0.52943001 -0.31458703 -0.2016019  -0.94494217]\n",
      " [-0.10790716 -0.65023769  2.72154195  2.02927711]]\n",
      "[  9.86202957   2.2288098  -12.09083936]\n"
     ]
    },
    {
     "name": "stderr",
     "output_type": "stream",
     "text": [
      "c:\\Users\\yulic\\AppData\\Local\\Programs\\Python\\Python311\\Lib\\site-packages\\sklearn\\linear_model\\_logistic.py:469: ConvergenceWarning: lbfgs failed to converge (status=1):\n",
      "STOP: TOTAL NO. of ITERATIONS REACHED LIMIT.\n",
      "\n",
      "Increase the number of iterations (max_iter) or scale the data as shown in:\n",
      "    https://scikit-learn.org/stable/modules/preprocessing.html\n",
      "Please also refer to the documentation for alternative solver options:\n",
      "    https://scikit-learn.org/stable/modules/linear_model.html#logistic-regression\n",
      "  n_iter_i = _check_optimize_result(\n"
     ]
    }
   ],
   "source": [
    "from sklearn.datasets import load_iris\n",
    "from sklearn.linear_model import LogisticRegression\n",
    "\n",
    "X, y = load_iris(return_X_y=True)\n",
    "clf = LogisticRegression(random_state=0).fit(X, y)\n",
    "\n",
    "print(clf.score(X, y))\n",
    "print(clf.coef_)\n",
    "print(clf.intercept_)"
   ]
  },
  {
   "cell_type": "markdown",
   "metadata": {},
   "source": [
    "#### One vs Rest Classifier\n",
    "##### Стратегія \"Один проти всіх\""
   ]
  },
  {
   "cell_type": "code",
   "execution_count": 75,
   "metadata": {},
   "outputs": [
    {
     "data": {
      "text/plain": [
       "array([2, 0, 1])"
      ]
     },
     "execution_count": 75,
     "metadata": {},
     "output_type": "execute_result"
    }
   ],
   "source": [
    "import numpy as np\n",
    "from sklearn.multiclass import OneVsRestClassifier\n",
    "from sklearn.svm import SVC\n",
    "\n",
    "# Створюємо набір даних, NumPy масив, що представляє 2D вектори ознак. \n",
    "# Кожен рядок представляє точку даних, а кожен стовпець - ознаку.  \n",
    "XX = np.array([\n",
    "    [10, 10],\n",
    "    [8, 10],\n",
    "    [-5, 5.5],\n",
    "    [-5.4, 5.5],\n",
    "    [-20, -20],\n",
    "    [-15, -20]\n",
    "])\n",
    "\n",
    "# Створюємо NumPy масив, що представляє мітки класів\n",
    "y = np.array([0, 0, 1, 1, 2, 2])\n",
    "\n",
    "# Побудова моделі\n",
    "clf = OneVsRestClassifier(SVC()).fit(XX, y)\n",
    "\n",
    "# Прогнозування моделі. \n",
    "# Метод predict використовується для прогнозування класів нових даних.\n",
    "# В цьому випадку передаються три нові зразки\n",
    "clf.predict([[-19, -20], [9, 9], [-5, 5]])\n",
    "\n",
    "# Код поверне прогнозовані класи для кожного з нових зразків. \n",
    "# Результат [2, 0, 1] означає, що перший зразок належить до класу 2, \n",
    "# другий — до класу 0, а третій — до класу 1"
   ]
  },
  {
   "cell_type": "markdown",
   "metadata": {},
   "source": [
    "#### One vs One Classifier\n",
    "##### Стратегія \"Один проти одного\""
   ]
  },
  {
   "cell_type": "code",
   "execution_count": 76,
   "metadata": {},
   "outputs": [
    {
     "data": {
      "text/plain": [
       "array([2, 1, 0, 2, 0, 2, 0, 1, 1, 1])"
      ]
     },
     "execution_count": 76,
     "metadata": {},
     "output_type": "execute_result"
    }
   ],
   "source": [
    "from sklearn.datasets import load_iris\n",
    "from sklearn.model_selection import train_test_split\n",
    "from sklearn.multiclass import OneVsOneClassifier\n",
    "from sklearn.svm import LinearSVC\n",
    "\n",
    "# Завантаження та розділення даних на навчальний та тестовий набори.\n",
    "# Параметр test_size=0.33 вказує, що 33% даних буде використано для тестування, \n",
    "# а shuffle=True гарантує, що дані будуть перемішані перед розділенням. \n",
    "# random_state=0 забезпечує повторюваність результатів.\n",
    "X, y = load_iris(return_X_y=True)\n",
    "X_train, X_test, y_train, y_test = train_test_split(\n",
    "    X, y, test_size=0.33, shuffle=True, random_state=0)\n",
    "\n",
    "# Побудова та навчання моделі:\n",
    "clf = OneVsOneClassifier(\n",
    "    LinearSVC(random_state=0)).fit(X_train, y_train)\n",
    "\n",
    "# Прогнозування: \n",
    "# predict використовується для прогнозування класів перших 10 зразків\n",
    "# з тестового набору X_test\n",
    "clf.predict(X_test[:10])\n",
    "\n",
    "# Код поверне прогнозовані класи для перших 10 зразків з тестового набору. \n",
    "# результат [2, 0, 1, 1, 2, 0, 1, 2, 1, 0] означає, що модель прогнозує класи для цих зразків відповідно."
   ]
  }
 ],
 "metadata": {
  "kernelspec": {
   "display_name": "Python 3",
   "language": "python",
   "name": "python3"
  },
  "language_info": {
   "codemirror_mode": {
    "name": "ipython",
    "version": 3
   },
   "file_extension": ".py",
   "mimetype": "text/x-python",
   "name": "python",
   "nbconvert_exporter": "python",
   "pygments_lexer": "ipython3",
   "version": "3.11.4"
  }
 },
 "nbformat": 4,
 "nbformat_minor": 2
}
